{
  "nbformat": 4,
  "nbformat_minor": 0,
  "metadata": {
    "colab": {
      "name": "Graficos_IBGE.ipynb",
      "provenance": [],
      "collapsed_sections": [],
      "authorship_tag": "ABX9TyNhCBdcegoQapO5d7ps7Ix2",
      "include_colab_link": true
    },
    "kernelspec": {
      "name": "python3",
      "display_name": "Python 3"
    },
    "language_info": {
      "name": "python"
    }
  },
  "cells": [
    {
      "cell_type": "markdown",
      "metadata": {
        "id": "view-in-github",
        "colab_type": "text"
      },
      "source": [
        "<a href=\"https://colab.research.google.com/github/eliasberra/API_IBGE/blob/main/Graficos_IBGE.ipynb\" target=\"_parent\"><img src=\"https://colab.research.google.com/assets/colab-badge.svg\" alt=\"Open In Colab\"/></a>"
      ]
    },
    {
      "cell_type": "markdown",
      "metadata": {
        "id": "brnuXupc6BlO"
      },
      "source": [
        "#Introdução\n",
        "Objetivos: \n",
        "1) Produzir gráficos utilizando python.\n",
        "2) Acessar dados da API de serviços de dados do IBGE."
      ]
    },
    {
      "cell_type": "markdown",
      "metadata": {
        "id": "vwwdkbu37UAO"
      },
      "source": [
        "O que é uma API?\n",
        "\"As API - Application Programming Interface (Interface de Programação de Aplicativos), são bibliotecas de códigos que funcionam como facilitadores para comunicar nossos programas com algo que esteja fora do seu escopo.\" [Fonte](https://www.linkedin.com/pulse/coletando-dados-de-regi%C3%B5es-e-estados-com-python-mauro-ferreira/?originalSubdomain=pt)."
      ]
    },
    {
      "cell_type": "markdown",
      "metadata": {
        "id": "P0KcVTtK7AIe"
      },
      "source": [
        "> 1) Explore a [API de serviço de dados do IBGE](https://servicodados.ibge.gov.br/api/docs).\n",
        "\n",
        "> 2) Acesse a [API de dados agregados do IBGE](https://servicodados.ibge.gov.br/api/docs/agregados?versao=3).\n",
        "\n",
        "> 3) use o 'Query Builder' para gerar consultas customizadas. \n",
        " 'Censo Demográfico'>\n",
        " '1301- Área e Densidade demográfica da unidade territorial'> \n",
        ">'615- Área total das unidades territoriais\n",
        "616- Densidade demográfica da unidade territorial'\n",
        "'2010 - 2010'\n",
        "'N2- Grande região (N, NE, SE, S, CO)' > todas as localidades > 'Gerar url'\n",
        "\n",
        "(Você pode preferir ver arquivos JSON no seu browser instalando a extensão [JsonView](https://jsonview.com/))\n",
        "\n",
        "Agradecimento: [Utilizando a API de dados do IBGE](https://youtu.be/b9IMOSHor8A)."
      ]
    },
    {
      "cell_type": "markdown",
      "metadata": {
        "id": "dbxa6xwJ2url"
      },
      "source": [
        "##Bibliotecas"
      ]
    },
    {
      "cell_type": "code",
      "metadata": {
        "id": "x8bUJYvs7Fwd"
      },
      "source": [
        "#Importe as bibliotecas\n",
        "# import requests\n",
        "# import pandas as pd #Data handling \n",
        "# import matplotlib.pyplot as plt\n",
        "# import numpy as np #Array handling\n",
        "# import json\n",
        "# import seaborn as sns "
      ],
      "execution_count": null,
      "outputs": []
    },
    {
      "cell_type": "markdown",
      "metadata": {
        "id": "BHg0AhCB7G5H"
      },
      "source": [
        "#Gráficos: Área e Densidade demográfica do IBGE"
      ]
    },
    {
      "cell_type": "code",
      "metadata": {
        "id": "21JEzQN96-Jo"
      },
      "source": [
        "# url = 'https://servicodados.ibge.gov.br/api/v3/agregados/1301/periodos/2010/variaveis/615|616?localidades=N2[all]'#url da Query Builder do IBGE\n",
        "\n",
        "# Data_IBGE = requests.get(url).json()\n",
        "# # Data_IBGE\n",
        "# titulo = Data_IBGE[0]['variavel']\n",
        "# # titulo\n",
        "# unidVar0 = Data_IBGE[0]['unidade']\n",
        "# unidVar1 = Data_IBGE[1]['unidade']\n",
        "# unidVar0\n",
        "# RR = 4 #Qual região\n",
        "# Area_total = Data_IBGE[0]['resultados'][0]['series'][RR]['serie']['2010']\n",
        "# # Area_total\n",
        "# Regiao = Data_IBGE[0]['resultados'][0]['series'][RR]['localidade']['nome']\n",
        "# # print('A região', Regiao, 'tem',  Area_total, unid)\n"
      ],
      "execution_count": null,
      "outputs": []
    },
    {
      "cell_type": "code",
      "metadata": {
        "id": "_EA_Cwxv1BJc"
      },
      "source": [
        ""
      ],
      "execution_count": null,
      "outputs": []
    },
    {
      "cell_type": "code",
      "metadata": {
        "id": "VeB-DRcE7BMz"
      },
      "source": [
        "# Preparar dados para representar em um gráfico\n",
        "# dados = []\n",
        "# for i in range(len(Data_IBGE[0]['resultados'][0]['series'])):#cria uma matriz com vetor de dados     \n",
        "#   dados.append( Data_IBGE[0]['resultados'][0]['series'][i]['localidade']['nome'] )#Qual a região\n",
        "#   dados.append( Data_IBGE[0]['resultados'][0]['series'][i]['serie']['2010'] )#\"Área total das unidades territoriais\"\n",
        "#   dados.append( Data_IBGE[1]['resultados'][0]['series'][i]['serie']['2010'] )#\"Habitante por quilômetro quadrado\"\n",
        "\n",
        "# matriz_np = np.array(dados)\n",
        "# # matriz_np\n",
        "# matriz_ajustada = np.reshape(matriz_np, (5, 3))\n",
        "# # matriz_ajustada\n",
        "# ## -- Acrescentar nomes para colunas e armazenar tudo em um DataFrame\n",
        "# varName0 = Data_IBGE[0]['resultados'][0]['series'][i]['localidade']['nivel']['nome'] \n",
        "# varName1 = Data_IBGE[0]['variavel']\n",
        "# varName2 = Data_IBGE[1]['variavel']\n",
        "# colunas = [varName0, varName1, varName2]\n",
        "# df = pd.DataFrame(matriz_ajustada, columns = colunas)\n",
        "# # df"
      ],
      "execution_count": null,
      "outputs": []
    },
    {
      "cell_type": "markdown",
      "metadata": {
        "id": "LcqH-F2Fua5N"
      },
      "source": [
        "##Gráfico de barras simples\n",
        "\n",
        "Veja [Exemplos](https://matplotlib.org/devdocs/gallery/index.html#) de códigos prontos."
      ]
    },
    {
      "cell_type": "code",
      "metadata": {
        "id": "IA08FI7x-InT"
      },
      "source": [
        "# Gráfico de barras simples\n",
        "# labels = np.array(df[varName0])#rótulos\n",
        "# Var1 = np.array(df[varName1],dtype=float)#Área total das unidades territoriais\n",
        "\n",
        "# x = np.arange(len(labels))  # the label locations\n",
        "# width = 0.5  # the width of the bars\n",
        "\n",
        "# fig, ax = plt.subplots()\n",
        "# ax.bar(x = x , height = Var1, width = width)\n",
        "# # Add some text for labels, title and custom x-axis tick labels, etc.\n",
        "# ax.set_ylabel(unidVar0 )\n",
        "# ax.set_title(varName1)\n",
        "# ax.set_xticks(x)\n",
        "# ax.set_xticklabels(labels)\n",
        "# fig.tight_layout()\n",
        "# plt.show()"
      ],
      "execution_count": null,
      "outputs": []
    },
    {
      "cell_type": "code",
      "metadata": {
        "id": "MObjXS2q3f0A"
      },
      "source": [
        ""
      ],
      "execution_count": null,
      "outputs": []
    },
    {
      "cell_type": "markdown",
      "metadata": {
        "id": "F7Lv0pzWu7zv"
      },
      "source": [
        "## Gráfico de barras agrupadas\n",
        "\n",
        "Área vs Densidade"
      ]
    },
    {
      "cell_type": "code",
      "metadata": {
        "id": "mN871kUWki7B"
      },
      "source": [
        "# # Grouped bar chart with labels\n",
        "# labels = np.array(df[varName0])#rótulos\n",
        "# Var1 = np.array(df[varName1], dtype=float)#Área total das unidades territoriais\n",
        "# Var2 = np.array(df[varName2], dtype=float)#Densidade demográfica da unidade territorial\n",
        "# Cl1 = 'b'\n",
        "# Cl2 = 'tab:red'#color\n",
        "\n",
        "# x = np.arange(len(labels))  # the label locations\n",
        "# width = 0.35  # the width of the bars\n",
        "\n",
        "# fig, ax = plt.subplots()\n",
        "# ax.bar(x - width/2, Var1, width, label= labels, color = Cl1)\n",
        "# ax.set_ylabel(unidVar0, color = Cl1)\n",
        "# ax.set_title('Área x densidade')\n",
        "# ax.set_xticks(x)\n",
        "# ax.set_xticklabels(labels)\n",
        "\n",
        "# ax2 = ax.twinx()# instantiate a second axes that shares the same x-axis \n",
        "# ax2.bar(x + width/2, Var2, width, label= labels, color=Cl2 )\n",
        "# ax2.set_ylabel(unidVar1, color = Cl2) \n",
        "\n",
        "# fig.tight_layout()\n",
        "# plt.show()"
      ],
      "execution_count": null,
      "outputs": []
    },
    {
      "cell_type": "markdown",
      "metadata": {
        "id": "3Zz2UmgHvXBs"
      },
      "source": [
        "## Gráfico setorial (de 'pizza')\n",
        "Veja [Exemplos](https://matplotlib.org/devdocs/gallery/index.html#pie-and-polar-charts) de códigos prontos."
      ]
    },
    {
      "cell_type": "code",
      "metadata": {
        "id": "78baZl2Ykjzk"
      },
      "source": [
        ""
      ],
      "execution_count": null,
      "outputs": []
    },
    {
      "cell_type": "code",
      "metadata": {
        "id": "Zpjj_GuJvlE9"
      },
      "source": [
        "# # Pie chart, where the slices will be ordered and plotted counter-clockwise:\n",
        "# labels = np.array(df[varName0])\n",
        "# Var1 = np.array(df[varName1], dtype=float)\n",
        "# explode = (0.1, 0, 0, 0, 0)  # only \"explode\" the 1st slice (i.e. 'Norte')                \n",
        "# fig1, ax1 = plt.subplots()\n",
        "# ax1.pie(Var1, explode=explode, labels=labels, autopct='%1.1f%%',\n",
        "#         shadow=True, startangle=90)\n",
        "# ax1.set_title(varName1)\n",
        "# ax1.axis('equal')  # Equal aspect ratio ensures that pie is drawn as a circle.\n",
        "# plt.show()"
      ],
      "execution_count": null,
      "outputs": []
    },
    {
      "cell_type": "code",
      "metadata": {
        "id": "CzbWqFiR2XwN"
      },
      "source": [
        "# # Dois gráficos setoriais\n",
        "# labels = np.array(df[varName0])\n",
        "# Var1 = np.array(df[varName1], dtype=float)\n",
        "# Var2 = np.array(df[varName2], dtype=float)\n",
        "\n",
        "# explode1 = (0.1, 0, 0, 0, 0)  # only \"explode\" the 1st slice (i.e. 'Norte')\n",
        "# explode2 = (0, 0, 0.1, 0, 0)\n",
        "\n",
        "# CC= ['C0', 'C1', 'C2', 'C3', 'C4']#Colors\n",
        "\n",
        "# fig1, ax1 = plt.subplots(1, 2, figsize=(7, 7))\n",
        "# ## --- Gráfico 1\n",
        "# ax1[0].pie(Var1, explode=explode1, labels=labels, colors= CC, autopct='%1.1f%%',\n",
        "#         shadow=True, startangle=90)\n",
        "# ax1[0].set_title(varName1)\n",
        "# ax1[0].set_position([0, 0.5, 0.5, 0.6])#[left, bottom, width, height\n",
        "\n",
        "# ## --- Gráfico 2\n",
        "# ax1[1].pie(Var2, explode=explode2, labels=labels, colors= CC, autopct='%1.1f%%',\n",
        "#         shadow=True, startangle=90)\n",
        "# ax1[1].set_title(varName2)\n",
        "# ax1[1].set_position([0.7, 0.5, 0.5, 0.6])\n",
        "# plt.show()\n"
      ],
      "execution_count": null,
      "outputs": []
    },
    {
      "cell_type": "markdown",
      "metadata": {
        "id": "ettF_Kqcm9nm"
      },
      "source": [
        "#Gráficos: Estimativas de população IBGE"
      ]
    },
    {
      "cell_type": "markdown",
      "metadata": {
        "id": "UDMQ7niUsZip"
      },
      "source": [
        "Na [API de dados agregados do IBGE](https://servicodados.ibge.gov.br/api/docs/agregados?versao=3#api-bq) navegue até o 'Query Builder':\n",
        "\n",
        "'Estimativas da População' > '6579- População residente estimada' > '9324- População residente estimada' > Selecionar todos os períodos > 'N3- Unidade da Federação (estados)' > '41 - Paraná'\n"
      ]
    },
    {
      "cell_type": "code",
      "metadata": {
        "id": "jy0IuN9tsUuH"
      },
      "source": [
        "# urlPop = 'https://servicodados.ibge.gov.br/api/v3/agregados/6579/periodos/2001|2002|2003|2004|2005|2006|2008|2009|2011|2012|2013|2014|2015|2016|2017|2018|2019|2020|2021/variaveis/9324?localidades=N3[41]'\n",
        "\n",
        "# Data_IBGE_P = requests.get(urlPop).json()\n",
        "# # Data_IBGE_P\n",
        "# titulo = Data_IBGE_P[0]['variavel']\n",
        "# # titulo\n",
        "# unid = Data_IBGE_P[0]['unidade']\n",
        "# unid\n",
        "# Ano = 2011 #Qual região\n",
        "# Pop_ano = Data_IBGE_P[0]['resultados'][0]['series'][0]['serie'][str(Ano)]\n",
        "# Pop_ano\n",
        "# Localidade = Data_IBGE_P[0]['resultados'][0]['series'][0]['localidade']['nome']\n",
        "# print('A', titulo, 'no', Localidade, 'em', Ano, 'era de',  Pop_ano, unid)\n",
        "\n"
      ],
      "execution_count": null,
      "outputs": []
    },
    {
      "cell_type": "code",
      "metadata": {
        "id": "ImJSjyWM1ja8"
      },
      "source": [
        ""
      ],
      "execution_count": null,
      "outputs": []
    },
    {
      "cell_type": "markdown",
      "metadata": {
        "id": "o8DexK4O0AfX"
      },
      "source": [
        "## Gráfico de linhas\n",
        "\n",
        "Veja [Exemplos](https://matplotlib.org/devdocs/gallery/index.html#) de códigos prontos."
      ]
    },
    {
      "cell_type": "code",
      "metadata": {
        "id": "iS_xCcr6rROV"
      },
      "source": [
        "# DT = Data_IBGE_P[0]['resultados'][0]['series'][0]['serie']\n",
        "# names = list(DT.keys())\n",
        "# values = list(DT.values())\n",
        "\n",
        "# #parse string to float\n",
        "# Vyear = np.zeros(len(names))\n",
        "# Vvalue = np.zeros(len(names))\n",
        "# for i in range(len(names)):\n",
        "#   Vyear[i] = int(names[i])\n",
        "#   Vvalue[i] = values[i]\n",
        "\n",
        "# # -- \tPopulação recenseada no último censo [2010]\n",
        "# Pop_2010 = 10444526 #https://cidades.ibge.gov.br/brasil/pr/panorama\n",
        "\n",
        "\n",
        "# LT1 = np.arange(2001, 2022, step=1);#Axis range and interval\n",
        "\n",
        "# fig, axs = plt.subplots(figsize=(10, 5))\n",
        "# # axs.bar(Vyear, Vvalue)\n",
        "# axs.scatter(2010, Pop_2010, color = 'r')\n",
        "# axs.plot(Vyear, Vvalue, marker = 'o')\n",
        "# axs.set_ylabel(unid)\n",
        "# axs.set_xlabel('Ano')\n",
        "# axs.set_xlim(2000, 2022)\n",
        "# axs.set_ylim(Vvalue[0]-1e5, Vvalue[18]+1e5)\n",
        "# axs.set_xticks(LT1)\n",
        "# axs.legend(['Estimada', 'Censo 2010'])\n",
        "\n",
        "# fig.suptitle(titulo+' e recenseada no '+ Localidade)\n"
      ],
      "execution_count": null,
      "outputs": []
    },
    {
      "cell_type": "code",
      "metadata": {
        "id": "ZQNF-i-Qr7As"
      },
      "source": [
        ""
      ],
      "execution_count": null,
      "outputs": []
    },
    {
      "cell_type": "markdown",
      "metadata": {
        "id": "bHvxXAiHB1Xr"
      },
      "source": [
        "# Gráfico: Pirâmide etária\n",
        "> 1) Explore a [API de serviço de dados do IBGE](https://servicodados.ibge.gov.br/api/docs).\n",
        "\n",
        "> 2) Acesse a [API de dados agregados do IBGE](https://servicodados.ibge.gov.br/api/docs/agregados?versao=3).\n",
        "\n",
        "> 3) use o 'Query Builder' para gerar consultas customizadas. \n",
        " 'Censo Demográfico'>\n",
        " '2149- Brasileiros natos por unidade da federação de nascimento, sexo e grupos de idade'> \n",
        ">'289- Brasileiros natos' > '2000 - 2000' > Grupo de idade (58) > 'Selecionar todos' > Sexo > '4 - Homens' '5 - Mulheres' > 'N3- Unidade da Federação (estados)' > '41 - Paraná'> 'Gerar url'\n",
        "\n",
        "(Você pode preferir ver arquivos JSON no seu browser instalando a extensão [JsonView](https://jsonview.com/))\n",
        "\n",
        "Agradecimento: [Utilizando a API de dados do IBGE](https://youtu.be/b9IMOSHor8A)."
      ]
    },
    {
      "cell_type": "code",
      "metadata": {
        "id": "c83f3OdsCCJr"
      },
      "source": [
        "# url = 'https://servicodados.ibge.gov.br/api/v3/agregados/2149/periodos/2000/variaveis/289?localidades=N3[41]&classificacao=303[6854]|2[4,5]|58[all]'\n",
        "# Data_IBGE = requests.get(url).json()\n",
        "# Data_IBGE"
      ],
      "execution_count": null,
      "outputs": []
    },
    {
      "cell_type": "code",
      "metadata": {
        "id": "B91HC96aDIT2"
      },
      "source": [
        "# # Data_IBGE\n",
        "# titulo = Data_IBGE[0]['variavel']\n",
        "# titulo\n",
        "# unidVar0 = Data_IBGE[0]['unidade']\n",
        "# # unidVar1 = Data_IBGE[1]['unidade']\n",
        "# unidVar0\n",
        "# RR = 2\n",
        "# Var1 = Data_IBGE[0]['resultados'][RR]['classificacoes'][1]['categoria']['4']#Sexo\n",
        "# Var2 = Data_IBGE[0]['resultados'][RR]['classificacoes'][2]['categoria']['1141']#Faixa etária\n",
        "# Var3 = Data_IBGE[0]['resultados'][RR]['series'][0]['serie']['2000']#Valor\n",
        "# Var1, Var2, Var3 \n",
        "# # Regiao = Data_IBGE[0]['resultados'][0]['series'][RR]['localidade']['nome']"
      ],
      "execution_count": null,
      "outputs": []
    },
    {
      "cell_type": "code",
      "metadata": {
        "id": "Yi1jUvG3HENA"
      },
      "source": [
        "# # Preparar dados para representar em um gráfico\n",
        "# dados = []\n",
        "# n1 = np.array((range(1140, 1156, 1)))\n",
        "# n2 = [2503]\n",
        "# vv = [*n1, *n2]\n",
        "\n",
        "# PP = 34\n",
        "# for i in range( PP ):#cria uma matriz com vetor de dados\n",
        "#   if i<17: \n",
        "#     S = '4'\n",
        "#     L = i\n",
        "#     C = 1\n",
        "#   else:\n",
        "#     S = '5'\n",
        "#     L = i-17\n",
        "#     i = i + 1 \n",
        "#     C = -1  \n",
        "#   dados.append( Data_IBGE[0]['resultados'][i+1]['classificacoes'][1]['categoria'][S] )#Sexo\n",
        "#   dados.append( Data_IBGE[0]['resultados'][i+1]['classificacoes'][2]['categoria'][str(vv[L])] )#Faixa etária\n",
        "#   dados.append( pd.to_numeric(Data_IBGE[0]['resultados'][i+1]['series'][0]['serie']['2000'])*C )#Valor\n",
        "\n",
        "# matriz_np = np.array(dados)\n",
        "# # matriz_np\n",
        "# matriz_ajustada = np.reshape(matriz_np, (PP, 3))\n",
        "# # matriz_ajustada\n",
        "# ## -- Acrescentar nomes para colunas e armazenar tudo em um DataFrame\n",
        "# varName0 = Data_IBGE[0]['resultados'][RR]['classificacoes'][1]['nome']#Sexo\n",
        "# varName1 = Data_IBGE[0]['resultados'][1]['classificacoes'][2]['nome']#Faixa etaria\n",
        "# varName2 = Data_IBGE[0]['variavel']\n",
        "# # colunas = [varName0, varName1, varName2]\n",
        "\n",
        "# colunas = [varName0, 'Faixa_Etaria', 'Brasileiros_natos']\n",
        "# df = pd.DataFrame(matriz_ajustada, columns = colunas)\n",
        "# # df\n"
      ],
      "execution_count": null,
      "outputs": []
    },
    {
      "cell_type": "code",
      "metadata": {
        "id": "BuN6JBEaMpMe"
      },
      "source": [
        "# Draw Plot\n",
        "#Código original (https://www.machinelearningplus.com/plots/top-50-matplotlib-visualizations-the-master-plots-python/#29.-Population-Pyramid)\n",
        "# plt.figure(figsize=(10,8), dpi= 80)\n",
        "\n",
        "# group_col = varName0\n",
        "# order_of_bars = df.Faixa_Etaria.unique()[::-1]\n",
        "\n",
        "# # colunas = [varName0, 'Faixa_Etaria', 'Brasileiros_natos']\n",
        "# df[colunas[2]] = pd.to_numeric(df[colunas[2]])\n",
        "\n",
        "# colors = [plt.cm.Spectral(i/float(len(df[group_col].unique())-1)) for i in range(len(df[group_col].unique()))]\n",
        "\n",
        "# for c, group in zip(colors, df[group_col].unique()):\n",
        "#     sns.barplot(x=colunas[2], y= colunas[1], data=df.loc[df[group_col]==group, :], order=order_of_bars, color=c, label=group)\n",
        "\n",
        "# # Decorations    \n",
        "# plt.xlabel(colunas[2])\n",
        "# plt.ylabel(colunas[1])\n",
        "# plt.yticks(fontsize=12)\n",
        "# plt.title(\"Brasileiros natos no Paraná por sexo e grupos de idade\", fontsize=22)\n",
        "# plt.legend()\n",
        "# plt.show()\n"
      ],
      "execution_count": null,
      "outputs": []
    }
  ]
}